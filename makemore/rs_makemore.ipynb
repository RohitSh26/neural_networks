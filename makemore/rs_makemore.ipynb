{
 "cells": [
  {
   "cell_type": "code",
   "execution_count": 1,
   "id": "d298ab33",
   "metadata": {},
   "outputs": [],
   "source": [
    "words = open('names.txt', 'r').read().splitlines()"
   ]
  },
  {
   "cell_type": "code",
   "execution_count": 2,
   "id": "ad383a9f",
   "metadata": {},
   "outputs": [],
   "source": [
    "chars = sorted(list(set(''.join(words))))"
   ]
  },
  {
   "cell_type": "code",
   "execution_count": 3,
   "id": "6f4f2141",
   "metadata": {},
   "outputs": [],
   "source": [
    "# LOOKUP char to index\n",
    "stoi = {s:i+1 for i, s in enumerate(chars)}\n",
    "stoi['.'] = 0"
   ]
  },
  {
   "cell_type": "code",
   "execution_count": 4,
   "id": "ed36436f",
   "metadata": {},
   "outputs": [],
   "source": [
    "# LOOKUP index to char\n",
    "itos = {i:s for s, i in stoi.items()}"
   ]
  },
  {
   "cell_type": "code",
   "execution_count": 5,
   "id": "2c538c7f",
   "metadata": {},
   "outputs": [],
   "source": [
    "# create nueral net model\n",
    "import torch"
   ]
  },
  {
   "cell_type": "code",
   "execution_count": 6,
   "id": "32666b69",
   "metadata": {},
   "outputs": [],
   "source": [
    "# create learning data \n",
    "\n",
    "xs, ys = [], []\n",
    "\n",
    "for w in words:\n",
    "    padded = ['.'] + list(w) + ['.']\n",
    "    \n",
    "    for ch1, ch2 in zip(padded, padded[1:]):\n",
    "        ix1 = stoi[ch1]\n",
    "        ix2 = stoi[ch2]\n",
    "        \n",
    "        xs.append(ix1)\n",
    "        ys.append(ix2)\n",
    "\n",
    "xs = torch.tensor(xs)\n",
    "ys = torch.tensor(ys)\n",
    "\n",
    "num = xs.nelement()"
   ]
  },
  {
   "cell_type": "code",
   "execution_count": 7,
   "id": "daabecb4",
   "metadata": {},
   "outputs": [
    {
     "data": {
      "text/plain": [
       "228146"
      ]
     },
     "execution_count": 7,
     "metadata": {},
     "output_type": "execute_result"
    }
   ],
   "source": [
    "# number of examples\n",
    "num"
   ]
  },
  {
   "cell_type": "code",
   "execution_count": 8,
   "id": "94ba056a",
   "metadata": {},
   "outputs": [],
   "source": [
    "# create a gradient descent model\n",
    "seed = 2147483647"
   ]
  },
  {
   "cell_type": "code",
   "execution_count": 9,
   "id": "a183517a",
   "metadata": {},
   "outputs": [],
   "source": [
    "# one hot encoding\n",
    "import torch.nn.functional as F"
   ]
  },
  {
   "cell_type": "code",
   "execution_count": 10,
   "id": "7970a394",
   "metadata": {},
   "outputs": [],
   "source": [
    "# WX + B"
   ]
  },
  {
   "cell_type": "code",
   "execution_count": 11,
   "id": "2c1a2198",
   "metadata": {},
   "outputs": [],
   "source": [
    "# create a generator\n",
    "g = torch.Generator().manual_seed(seed)"
   ]
  },
  {
   "cell_type": "code",
   "execution_count": 12,
   "id": "053ce48a",
   "metadata": {},
   "outputs": [],
   "source": [
    "# create W\n",
    "W = torch.randn((27, 27), generator=g, requires_grad=True)"
   ]
  },
  {
   "cell_type": "code",
   "execution_count": 13,
   "id": "3c91742a",
   "metadata": {},
   "outputs": [],
   "source": [
    "# gradient descent\n",
    "\n",
    "epoch = 100\n",
    "\n",
    "for i in range(epoch):\n",
    "\n",
    "    # forward pass\n",
    "    xenc = F.one_hot(xs, num_classes=27).float() # inputs\n",
    "    logits = xenc @ W # logits\n",
    "\n",
    "    # softmax layer\n",
    "    counts = logits.exp()\n",
    "    p = counts / counts.sum(1, keepdims=True)\n",
    "\n",
    "    # loss\n",
    "    loss = -p[torch.arange(num), ys].log().mean() + 0.01 * (W**2).mean()\n",
    "\n",
    "    # backward pass\n",
    "    W.grad = None\n",
    "    loss.backward()\n",
    "\n",
    "    W.data +=  -50 * W.grad"
   ]
  },
  {
   "cell_type": "code",
   "execution_count": 14,
   "id": "c3239c34",
   "metadata": {},
   "outputs": [
    {
     "data": {
      "text/plain": [
       "tensor(2.4901, grad_fn=<AddBackward0>)"
      ]
     },
     "execution_count": 14,
     "metadata": {},
     "output_type": "execute_result"
    }
   ],
   "source": [
    "loss"
   ]
  },
  {
   "cell_type": "code",
   "execution_count": 15,
   "id": "368f1db4",
   "metadata": {},
   "outputs": [
    {
     "name": "stdout",
     "output_type": "stream",
     "text": [
      "mor.\n",
      "axx.\n",
      "minaymoryles.\n",
      "kondmaisah.\n",
      "anchthizarie.\n"
     ]
    }
   ],
   "source": [
    "# Sample from data\n",
    "G = torch.Generator().manual_seed(seed)\n",
    "num_samples = 5\n",
    "\n",
    "for i in range(num_samples):\n",
    "    \n",
    "    ix = 0\n",
    "    out = []\n",
    "    \n",
    "    while True:\n",
    "        \n",
    "        # forward pass\n",
    "        X = F.one_hot(torch.tensor([ix]), num_classes=27).float()\n",
    "        logits = X @ W\n",
    "        \n",
    "        # softmax\n",
    "        counts = logits.exp()\n",
    "        P = counts / counts.sum(1, keepdims=True)\n",
    "        \n",
    "        # sample\n",
    "        ix = torch.multinomial(P, num_samples=1, replacement=True, generator=G).item()\n",
    "        out.append(itos[ix])\n",
    "        if ix == 0:\n",
    "            break\n",
    "        \n",
    "    print(''.join(out))"
   ]
  },
  {
   "cell_type": "code",
   "execution_count": null,
   "id": "62750860",
   "metadata": {},
   "outputs": [],
   "source": []
  },
  {
   "cell_type": "code",
   "execution_count": null,
   "id": "61d2bd51",
   "metadata": {},
   "outputs": [],
   "source": []
  }
 ],
 "metadata": {
  "kernelspec": {
   "display_name": "Python 3 (ipykernel)",
   "language": "python",
   "name": "python3"
  },
  "language_info": {
   "codemirror_mode": {
    "name": "ipython",
    "version": 3
   },
   "file_extension": ".py",
   "mimetype": "text/x-python",
   "name": "python",
   "nbconvert_exporter": "python",
   "pygments_lexer": "ipython3",
   "version": "3.9.13"
  }
 },
 "nbformat": 4,
 "nbformat_minor": 5
}
