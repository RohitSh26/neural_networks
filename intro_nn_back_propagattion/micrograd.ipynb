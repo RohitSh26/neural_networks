{
 "cells": [
  {
   "cell_type": "code",
   "execution_count": 1,
   "metadata": {},
   "outputs": [],
   "source": [
    "import math\n",
    "import numpy as numpy\n",
    "import matplotlib.pyplot as plt\n",
    "%matplotlib inline"
   ]
  },
  {
   "cell_type": "markdown",
   "metadata": {},
   "source": [
    "##### Graphviz"
   ]
  },
  {
   "cell_type": "code",
   "execution_count": 2,
   "metadata": {},
   "outputs": [
    {
     "name": "stdout",
     "output_type": "stream",
     "text": [
      "Requirement already satisfied: graphviz in /Users/rohitsharma/opt/anaconda3/envs/nn/lib/python3.9/site-packages (0.20.1)\n"
     ]
    }
   ],
   "source": [
    "!pip install graphviz\n",
    "from graphviz import Digraph"
   ]
  },
  {
   "cell_type": "code",
   "execution_count": 3,
   "metadata": {},
   "outputs": [],
   "source": [
    "def trace(root):\n",
    "    # build set of all nodes and edges\n",
    "    nodes, edges = set(), set()\n",
    "\n",
    "    def build(node):\n",
    "        # node is not in nodes add it to the list\n",
    "        if node not in nodes:\n",
    "            nodes.add(node)\n",
    "\n",
    "        # for each child of node\n",
    "        # add an edge from node to child\n",
    "        # in our case it would be children\n",
    "        # that is connect all prev to node\n",
    "        for child in node._prev:\n",
    "            edges.add((child, node))\n",
    "            # now recursively call build on each child\n",
    "            build(child)\n",
    "\n",
    "    # start building from the root\n",
    "    build(root)\n",
    "    return nodes, edges\n",
    "\n",
    "def draw_dot(root):\n",
    "    dot = Digraph(format='svg', graph_attr={'rankdir': 'LR'}) # LR => Left to right\n",
    "\n",
    "    nodes, edges = trace(root=root)\n",
    "\n",
    "    for node in nodes:\n",
    "        # unique id for the node\n",
    "        uid = str(id(node))\n",
    "\n",
    "        # for values we create a rectangular shape i.e. record\n",
    "        dot.node(name = uid, label = \"{ %s | data %.2f | grad %.2f}\" % (node._label, node.data, node.grad), shape='record')\n",
    "\n",
    "        # there is a node with operation\n",
    "        if node._op:\n",
    "            # i.e, if this is a result of some operation\n",
    "            dot.node(name = uid + node._op, label = node._op)\n",
    "\n",
    "            # connect node to it\n",
    "            dot.edge(uid + node._op, uid)\n",
    "        \n",
    "    for n1, n2 in edges:\n",
    "        # connect node 1 to the op node of node 2\n",
    "        dot.edge(str(id(n1)), str(id(n2)) + n2._op)\n",
    "    \n",
    "    return dot\n"
   ]
  },
  {
   "cell_type": "markdown",
   "metadata": {},
   "source": [
    "##### Value Class"
   ]
  },
  {
   "cell_type": "code",
   "execution_count": 19,
   "metadata": {},
   "outputs": [],
   "source": [
    "class Value:\n",
    "\n",
    "    def __init__(self, data, _children=(), _op='', _label=''):\n",
    "        self.data = data\n",
    "        self.grad = 0.0\n",
    "        # by default and empty function\n",
    "        self._backward = lambda: None\n",
    "        self._prev = set(_children)\n",
    "        self._op = _op\n",
    "        self._label = _label\n",
    "    \n",
    "    def __repr__(self):\n",
    "        return f\"Value(data={self.data})\"\n",
    "    \n",
    "    def __add__(self, other):\n",
    "        out = Value(self.data + other.data, _children=(self, other), _op='+')\n",
    "\n",
    "        def _backward():\n",
    "            self.grad = 1.0 * out.grad\n",
    "            other.grad = 1.0 * out.grad\n",
    "        \n",
    "        out._backward = _backward\n",
    "        return out\n",
    "\n",
    "    def __mul__(self, other):\n",
    "        out = Value(self.data * other.data, _children=(self, other), _op='*')\n",
    "\n",
    "        def _backward():\n",
    "            self.grad = out.grad * other.data\n",
    "            other.grad = out.grad * self.data\n",
    "        \n",
    "        out._backward = _backward\n",
    "        return out\n",
    "\n",
    "    def tanh(self):\n",
    "        x = self.data\n",
    "        t = (math.exp(2 * x) - 1) / (math.exp(2 * x) + 1)\n",
    "        out = Value(data=t, _children=(self, ), _label='tanh')\n",
    "\n",
    "        def _backward():\n",
    "            self.grad = (1 - t**2) * out.grad\n",
    "\n",
    "        out._backward = _backward\n",
    "        return out\n"
   ]
  },
  {
   "cell_type": "code",
   "execution_count": 23,
   "metadata": {},
   "outputs": [],
   "source": [
    "# input values\n",
    "x1 = Value(2.0, _label='x1')\n",
    "x2 = Value(0.0, _label='x2')\n",
    "\n",
    "# weights\n",
    "w1 = Value(-3.0, _label='w1')\n",
    "w2 = Value(1.0, _label='w2')\n",
    "\n",
    "# bias\n",
    "b = Value(6.8813735870195432, _label='b')\n",
    "\n",
    "# x1*w1 + x2*w2 + b\n",
    "x1w1 = x1 * w1; x1w1._label='x1*w1'\n",
    "x2w2 = x2 * w2; x2w2._label='x2*w2'\n",
    "x1w1x2w2 = x1w1 + x2w2; x1w1x2w2._label='x1*w1 + x2*w2'\n",
    "\n",
    "# neuron\n",
    "n = x1w1x2w2 + b; n._label = 'n'\n",
    "\n",
    "# output\n",
    "o = n.tanh(); o._label='o'; o._op='tanh'; o.grad = 1.0"
   ]
  },
  {
   "cell_type": "code",
   "execution_count": 24,
   "metadata": {},
   "outputs": [],
   "source": [
    "# topological sort\n",
    "topo = []\n",
    "visited = set()\n",
    "\n",
    "def build_topo(v):\n",
    "    if v not in visited:\n",
    "        visited.add(v)\n",
    "\n",
    "        for child in v._prev:\n",
    "            build_topo(child)\n",
    "\n",
    "        topo.append(v)\n",
    "\n",
    "build_topo(o)\n",
    "\n",
    "for node in reversed(topo):\n",
    "    node._backward"
   ]
  },
  {
   "cell_type": "code",
   "execution_count": 25,
   "metadata": {},
   "outputs": [
    {
     "data": {
      "image/svg+xml": "<?xml version=\"1.0\" encoding=\"UTF-8\" standalone=\"no\"?>\n<!DOCTYPE svg PUBLIC \"-//W3C//DTD SVG 1.1//EN\"\n \"http://www.w3.org/Graphics/SVG/1.1/DTD/svg11.dtd\">\n<!-- Generated by graphviz version 2.50.0 (0)\n -->\n<!-- Pages: 1 -->\n<svg width=\"1437pt\" height=\"210pt\"\n viewBox=\"0.00 0.00 1437.00 210.00\" xmlns=\"http://www.w3.org/2000/svg\" xmlns:xlink=\"http://www.w3.org/1999/xlink\">\n<g id=\"graph0\" class=\"graph\" transform=\"scale(1 1) rotate(0) translate(4 206)\">\n<polygon fill=\"white\" stroke=\"transparent\" points=\"-4,4 -4,-206 1433,-206 1433,4 -4,4\"/>\n<!-- 140436681135104 -->\n<g id=\"node1\" class=\"node\">\n<title>140436681135104</title>\n<polygon fill=\"none\" stroke=\"black\" points=\"3.5,-165.5 3.5,-201.5 168.5,-201.5 168.5,-165.5 3.5,-165.5\"/>\n<text text-anchor=\"middle\" x=\"18.5\" y=\"-179.8\" font-family=\"Times,serif\" font-size=\"14.00\">x2</text>\n<polyline fill=\"none\" stroke=\"black\" points=\"33.5,-165.5 33.5,-201.5 \"/>\n<text text-anchor=\"middle\" x=\"67\" y=\"-179.8\" font-family=\"Times,serif\" font-size=\"14.00\">data 0.00</text>\n<polyline fill=\"none\" stroke=\"black\" points=\"100.5,-165.5 100.5,-201.5 \"/>\n<text text-anchor=\"middle\" x=\"134.5\" y=\"-179.8\" font-family=\"Times,serif\" font-size=\"14.00\">grad 0.50</text>\n</g>\n<!-- 140436681136016* -->\n<g id=\"node11\" class=\"node\">\n<title>140436681136016*</title>\n<ellipse fill=\"none\" stroke=\"black\" cx=\"235\" cy=\"-128.5\" rx=\"27\" ry=\"18\"/>\n<text text-anchor=\"middle\" x=\"235\" y=\"-124.8\" font-family=\"Times,serif\" font-size=\"14.00\">*</text>\n</g>\n<!-- 140436681135104&#45;&gt;140436681136016* -->\n<g id=\"edge12\" class=\"edge\">\n<title>140436681135104&#45;&gt;140436681136016*</title>\n<path fill=\"none\" stroke=\"black\" d=\"M146.75,-165.49C155.28,-162.64 163.9,-159.6 172,-156.5 182.45,-152.5 193.65,-147.62 203.62,-143.07\"/>\n<polygon fill=\"black\" stroke=\"black\" points=\"205.14,-146.22 212.74,-138.84 202.2,-139.87 205.14,-146.22\"/>\n</g>\n<!-- 140436681136160 -->\n<g id=\"node2\" class=\"node\">\n<title>140436681136160</title>\n<polygon fill=\"none\" stroke=\"black\" points=\"616,-82.5 616,-118.5 861,-118.5 861,-82.5 616,-82.5\"/>\n<text text-anchor=\"middle\" x=\"669\" y=\"-96.8\" font-family=\"Times,serif\" font-size=\"14.00\">x1*w1 + x2*w2</text>\n<polyline fill=\"none\" stroke=\"black\" points=\"722,-82.5 722,-118.5 \"/>\n<text text-anchor=\"middle\" x=\"757.5\" y=\"-96.8\" font-family=\"Times,serif\" font-size=\"14.00\">data &#45;6.00</text>\n<polyline fill=\"none\" stroke=\"black\" points=\"793,-82.5 793,-118.5 \"/>\n<text text-anchor=\"middle\" x=\"827\" y=\"-96.8\" font-family=\"Times,serif\" font-size=\"14.00\">grad 0.50</text>\n</g>\n<!-- 140436681136736+ -->\n<g id=\"node6\" class=\"node\">\n<title>140436681136736+</title>\n<ellipse fill=\"none\" stroke=\"black\" cx=\"924\" cy=\"-72.5\" rx=\"27\" ry=\"18\"/>\n<text text-anchor=\"middle\" x=\"924\" y=\"-68.8\" font-family=\"Times,serif\" font-size=\"14.00\">+</text>\n</g>\n<!-- 140436681136160&#45;&gt;140436681136736+ -->\n<g id=\"edge6\" class=\"edge\">\n<title>140436681136160&#45;&gt;140436681136736+</title>\n<path fill=\"none\" stroke=\"black\" d=\"M857.53,-82.49C868.23,-80.86 878.41,-79.3 887.42,-77.93\"/>\n<polygon fill=\"black\" stroke=\"black\" points=\"888.05,-81.37 897.41,-76.4 887,-74.45 888.05,-81.37\"/>\n</g>\n<!-- 140436681136160+ -->\n<g id=\"node3\" class=\"node\">\n<title>140436681136160+</title>\n<ellipse fill=\"none\" stroke=\"black\" cx=\"553\" cy=\"-100.5\" rx=\"27\" ry=\"18\"/>\n<text text-anchor=\"middle\" x=\"553\" y=\"-96.8\" font-family=\"Times,serif\" font-size=\"14.00\">+</text>\n</g>\n<!-- 140436681136160+&#45;&gt;140436681136160 -->\n<g id=\"edge1\" class=\"edge\">\n<title>140436681136160+&#45;&gt;140436681136160</title>\n<path fill=\"none\" stroke=\"black\" d=\"M580.29,-100.5C587.79,-100.5 596.51,-100.5 605.93,-100.5\"/>\n<polygon fill=\"black\" stroke=\"black\" points=\"605.97,-104 615.97,-100.5 605.97,-97 605.97,-104\"/>\n</g>\n<!-- 140436681135152 -->\n<g id=\"node4\" class=\"node\">\n<title>140436681135152</title>\n<polygon fill=\"none\" stroke=\"black\" points=\"2,-110.5 2,-146.5 170,-146.5 170,-110.5 2,-110.5\"/>\n<text text-anchor=\"middle\" x=\"18.5\" y=\"-124.8\" font-family=\"Times,serif\" font-size=\"14.00\">w2</text>\n<polyline fill=\"none\" stroke=\"black\" points=\"35,-110.5 35,-146.5 \"/>\n<text text-anchor=\"middle\" x=\"68.5\" y=\"-124.8\" font-family=\"Times,serif\" font-size=\"14.00\">data 1.00</text>\n<polyline fill=\"none\" stroke=\"black\" points=\"102,-110.5 102,-146.5 \"/>\n<text text-anchor=\"middle\" x=\"136\" y=\"-124.8\" font-family=\"Times,serif\" font-size=\"14.00\">grad 0.00</text>\n</g>\n<!-- 140436681135152&#45;&gt;140436681136016* -->\n<g id=\"edge9\" class=\"edge\">\n<title>140436681135152&#45;&gt;140436681136016*</title>\n<path fill=\"none\" stroke=\"black\" d=\"M170.38,-128.5C179.95,-128.5 189.29,-128.5 197.74,-128.5\"/>\n<polygon fill=\"black\" stroke=\"black\" points=\"197.91,-132 207.91,-128.5 197.91,-125 197.91,-132\"/>\n</g>\n<!-- 140436681136736 -->\n<g id=\"node5\" class=\"node\">\n<title>140436681136736</title>\n<polygon fill=\"none\" stroke=\"black\" points=\"987,-54.5 987,-90.5 1145,-90.5 1145,-54.5 987,-54.5\"/>\n<text text-anchor=\"middle\" x=\"998.5\" y=\"-68.8\" font-family=\"Times,serif\" font-size=\"14.00\">n</text>\n<polyline fill=\"none\" stroke=\"black\" points=\"1010,-54.5 1010,-90.5 \"/>\n<text text-anchor=\"middle\" x=\"1043.5\" y=\"-68.8\" font-family=\"Times,serif\" font-size=\"14.00\">data 0.88</text>\n<polyline fill=\"none\" stroke=\"black\" points=\"1077,-54.5 1077,-90.5 \"/>\n<text text-anchor=\"middle\" x=\"1111\" y=\"-68.8\" font-family=\"Times,serif\" font-size=\"14.00\">grad 0.50</text>\n</g>\n<!-- 140436681136544tanh -->\n<g id=\"node13\" class=\"node\">\n<title>140436681136544tanh</title>\n<ellipse fill=\"none\" stroke=\"black\" cx=\"1208\" cy=\"-72.5\" rx=\"27\" ry=\"18\"/>\n<text text-anchor=\"middle\" x=\"1208\" y=\"-68.8\" font-family=\"Times,serif\" font-size=\"14.00\">tanh</text>\n</g>\n<!-- 140436681136736&#45;&gt;140436681136544tanh -->\n<g id=\"edge7\" class=\"edge\">\n<title>140436681136736&#45;&gt;140436681136544tanh</title>\n<path fill=\"none\" stroke=\"black\" d=\"M1145.19,-72.5C1154.16,-72.5 1162.95,-72.5 1170.95,-72.5\"/>\n<polygon fill=\"black\" stroke=\"black\" points=\"1170.98,-76 1180.98,-72.5 1170.98,-69 1170.98,-76\"/>\n</g>\n<!-- 140436681136736+&#45;&gt;140436681136736 -->\n<g id=\"edge2\" class=\"edge\">\n<title>140436681136736+&#45;&gt;140436681136736</title>\n<path fill=\"none\" stroke=\"black\" d=\"M951,-72.5C958.61,-72.5 967.39,-72.5 976.62,-72.5\"/>\n<polygon fill=\"black\" stroke=\"black\" points=\"976.78,-76 986.78,-72.5 976.78,-69 976.78,-76\"/>\n</g>\n<!-- 140436681135296 -->\n<g id=\"node7\" class=\"node\">\n<title>140436681135296</title>\n<polygon fill=\"none\" stroke=\"black\" points=\"0,-55.5 0,-91.5 172,-91.5 172,-55.5 0,-55.5\"/>\n<text text-anchor=\"middle\" x=\"16.5\" y=\"-69.8\" font-family=\"Times,serif\" font-size=\"14.00\">w1</text>\n<polyline fill=\"none\" stroke=\"black\" points=\"33,-55.5 33,-91.5 \"/>\n<text text-anchor=\"middle\" x=\"68.5\" y=\"-69.8\" font-family=\"Times,serif\" font-size=\"14.00\">data &#45;3.00</text>\n<polyline fill=\"none\" stroke=\"black\" points=\"104,-55.5 104,-91.5 \"/>\n<text text-anchor=\"middle\" x=\"138\" y=\"-69.8\" font-family=\"Times,serif\" font-size=\"14.00\">grad 1.00</text>\n</g>\n<!-- 140436681136112* -->\n<g id=\"node15\" class=\"node\">\n<title>140436681136112*</title>\n<ellipse fill=\"none\" stroke=\"black\" cx=\"235\" cy=\"-73.5\" rx=\"27\" ry=\"18\"/>\n<text text-anchor=\"middle\" x=\"235\" y=\"-69.8\" font-family=\"Times,serif\" font-size=\"14.00\">*</text>\n</g>\n<!-- 140436681135296&#45;&gt;140436681136112* -->\n<g id=\"edge14\" class=\"edge\">\n<title>140436681135296&#45;&gt;140436681136112*</title>\n<path fill=\"none\" stroke=\"black\" d=\"M172.08,-73.5C180.99,-73.5 189.66,-73.5 197.56,-73.5\"/>\n<polygon fill=\"black\" stroke=\"black\" points=\"197.8,-77 207.8,-73.5 197.8,-70 197.8,-77\"/>\n</g>\n<!-- 140436681135392 -->\n<g id=\"node8\" class=\"node\">\n<title>140436681135392</title>\n<polygon fill=\"none\" stroke=\"black\" points=\"659.5,-27.5 659.5,-63.5 817.5,-63.5 817.5,-27.5 659.5,-27.5\"/>\n<text text-anchor=\"middle\" x=\"671\" y=\"-41.8\" font-family=\"Times,serif\" font-size=\"14.00\">b</text>\n<polyline fill=\"none\" stroke=\"black\" points=\"682.5,-27.5 682.5,-63.5 \"/>\n<text text-anchor=\"middle\" x=\"716\" y=\"-41.8\" font-family=\"Times,serif\" font-size=\"14.00\">data 6.88</text>\n<polyline fill=\"none\" stroke=\"black\" points=\"749.5,-27.5 749.5,-63.5 \"/>\n<text text-anchor=\"middle\" x=\"783.5\" y=\"-41.8\" font-family=\"Times,serif\" font-size=\"14.00\">grad 0.50</text>\n</g>\n<!-- 140436681135392&#45;&gt;140436681136736+ -->\n<g id=\"edge8\" class=\"edge\">\n<title>140436681135392&#45;&gt;140436681136736+</title>\n<path fill=\"none\" stroke=\"black\" d=\"M817.59,-56.99C841.9,-60.57 867.52,-64.34 887.41,-67.26\"/>\n<polygon fill=\"black\" stroke=\"black\" points=\"887.14,-70.76 897.54,-68.75 888.16,-63.84 887.14,-70.76\"/>\n</g>\n<!-- 140436681137504 -->\n<g id=\"node9\" class=\"node\">\n<title>140436681137504</title>\n<polygon fill=\"none\" stroke=\"black\" points=\"1,-0.5 1,-36.5 171,-36.5 171,-0.5 1,-0.5\"/>\n<text text-anchor=\"middle\" x=\"16\" y=\"-14.8\" font-family=\"Times,serif\" font-size=\"14.00\">x1</text>\n<polyline fill=\"none\" stroke=\"black\" points=\"31,-0.5 31,-36.5 \"/>\n<text text-anchor=\"middle\" x=\"64.5\" y=\"-14.8\" font-family=\"Times,serif\" font-size=\"14.00\">data 2.00</text>\n<polyline fill=\"none\" stroke=\"black\" points=\"98,-0.5 98,-36.5 \"/>\n<text text-anchor=\"middle\" x=\"134.5\" y=\"-14.8\" font-family=\"Times,serif\" font-size=\"14.00\">grad &#45;1.50</text>\n</g>\n<!-- 140436681137504&#45;&gt;140436681136112* -->\n<g id=\"edge13\" class=\"edge\">\n<title>140436681137504&#45;&gt;140436681136112*</title>\n<path fill=\"none\" stroke=\"black\" d=\"M144.41,-36.61C153.68,-39.76 163.14,-43.12 172,-46.5 182.2,-50.39 193.17,-55.02 203.01,-59.33\"/>\n<polygon fill=\"black\" stroke=\"black\" points=\"201.84,-62.64 212.4,-63.51 204.68,-56.25 201.84,-62.64\"/>\n</g>\n<!-- 140436681136016 -->\n<g id=\"node10\" class=\"node\">\n<title>140436681136016</title>\n<polygon fill=\"none\" stroke=\"black\" points=\"300,-110.5 300,-146.5 488,-146.5 488,-110.5 300,-110.5\"/>\n<text text-anchor=\"middle\" x=\"326.5\" y=\"-124.8\" font-family=\"Times,serif\" font-size=\"14.00\">x2*w2</text>\n<polyline fill=\"none\" stroke=\"black\" points=\"353,-110.5 353,-146.5 \"/>\n<text text-anchor=\"middle\" x=\"386.5\" y=\"-124.8\" font-family=\"Times,serif\" font-size=\"14.00\">data 0.00</text>\n<polyline fill=\"none\" stroke=\"black\" points=\"420,-110.5 420,-146.5 \"/>\n<text text-anchor=\"middle\" x=\"454\" y=\"-124.8\" font-family=\"Times,serif\" font-size=\"14.00\">grad 0.50</text>\n</g>\n<!-- 140436681136016&#45;&gt;140436681136160+ -->\n<g id=\"edge10\" class=\"edge\">\n<title>140436681136016&#45;&gt;140436681136160+</title>\n<path fill=\"none\" stroke=\"black\" d=\"M488.14,-111.89C498.19,-110.1 507.9,-108.36 516.59,-106.81\"/>\n<polygon fill=\"black\" stroke=\"black\" points=\"517.41,-110.22 526.64,-105.02 516.19,-103.33 517.41,-110.22\"/>\n</g>\n<!-- 140436681136016*&#45;&gt;140436681136016 -->\n<g id=\"edge3\" class=\"edge\">\n<title>140436681136016*&#45;&gt;140436681136016</title>\n<path fill=\"none\" stroke=\"black\" d=\"M262.28,-128.5C270.33,-128.5 279.73,-128.5 289.72,-128.5\"/>\n<polygon fill=\"black\" stroke=\"black\" points=\"289.88,-132 299.88,-128.5 289.88,-125 289.88,-132\"/>\n</g>\n<!-- 140436681136544 -->\n<g id=\"node12\" class=\"node\">\n<title>140436681136544</title>\n<polygon fill=\"none\" stroke=\"black\" points=\"1271,-54.5 1271,-90.5 1429,-90.5 1429,-54.5 1271,-54.5\"/>\n<text text-anchor=\"middle\" x=\"1282.5\" y=\"-68.8\" font-family=\"Times,serif\" font-size=\"14.00\">o</text>\n<polyline fill=\"none\" stroke=\"black\" points=\"1294,-54.5 1294,-90.5 \"/>\n<text text-anchor=\"middle\" x=\"1327.5\" y=\"-68.8\" font-family=\"Times,serif\" font-size=\"14.00\">data 0.71</text>\n<polyline fill=\"none\" stroke=\"black\" points=\"1361,-54.5 1361,-90.5 \"/>\n<text text-anchor=\"middle\" x=\"1395\" y=\"-68.8\" font-family=\"Times,serif\" font-size=\"14.00\">grad 1.00</text>\n</g>\n<!-- 140436681136544tanh&#45;&gt;140436681136544 -->\n<g id=\"edge4\" class=\"edge\">\n<title>140436681136544tanh&#45;&gt;140436681136544</title>\n<path fill=\"none\" stroke=\"black\" d=\"M1235,-72.5C1242.61,-72.5 1251.39,-72.5 1260.62,-72.5\"/>\n<polygon fill=\"black\" stroke=\"black\" points=\"1260.78,-76 1270.78,-72.5 1260.78,-69 1260.78,-76\"/>\n</g>\n<!-- 140436681136112 -->\n<g id=\"node14\" class=\"node\">\n<title>140436681136112</title>\n<polygon fill=\"none\" stroke=\"black\" points=\"298,-55.5 298,-91.5 490,-91.5 490,-55.5 298,-55.5\"/>\n<text text-anchor=\"middle\" x=\"324.5\" y=\"-69.8\" font-family=\"Times,serif\" font-size=\"14.00\">x1*w1</text>\n<polyline fill=\"none\" stroke=\"black\" points=\"351,-55.5 351,-91.5 \"/>\n<text text-anchor=\"middle\" x=\"386.5\" y=\"-69.8\" font-family=\"Times,serif\" font-size=\"14.00\">data &#45;6.00</text>\n<polyline fill=\"none\" stroke=\"black\" points=\"422,-55.5 422,-91.5 \"/>\n<text text-anchor=\"middle\" x=\"456\" y=\"-69.8\" font-family=\"Times,serif\" font-size=\"14.00\">grad 0.50</text>\n</g>\n<!-- 140436681136112&#45;&gt;140436681136160+ -->\n<g id=\"edge11\" class=\"edge\">\n<title>140436681136112&#45;&gt;140436681136160+</title>\n<path fill=\"none\" stroke=\"black\" d=\"M490.4,-89.91C499.69,-91.5 508.64,-93.04 516.71,-94.43\"/>\n<polygon fill=\"black\" stroke=\"black\" points=\"516.32,-97.91 526.76,-96.16 517.5,-91.02 516.32,-97.91\"/>\n</g>\n<!-- 140436681136112*&#45;&gt;140436681136112 -->\n<g id=\"edge5\" class=\"edge\">\n<title>140436681136112*&#45;&gt;140436681136112</title>\n<path fill=\"none\" stroke=\"black\" d=\"M262.28,-73.5C269.78,-73.5 278.44,-73.5 287.67,-73.5\"/>\n<polygon fill=\"black\" stroke=\"black\" points=\"287.87,-77 297.87,-73.5 287.87,-70 287.87,-77\"/>\n</g>\n</g>\n</svg>\n",
      "text/plain": [
       "<graphviz.graphs.Digraph at 0x7fb9f67e1670>"
      ]
     },
     "execution_count": 25,
     "metadata": {},
     "output_type": "execute_result"
    }
   ],
   "source": [
    "draw_dot(o)"
   ]
  }
 ],
 "metadata": {
  "kernelspec": {
   "display_name": "Python 3.9.13 ('nn')",
   "language": "python",
   "name": "python3"
  },
  "language_info": {
   "codemirror_mode": {
    "name": "ipython",
    "version": 3
   },
   "file_extension": ".py",
   "mimetype": "text/x-python",
   "name": "python",
   "nbconvert_exporter": "python",
   "pygments_lexer": "ipython3",
   "version": "3.9.13"
  },
  "orig_nbformat": 4,
  "vscode": {
   "interpreter": {
    "hash": "281fcde91fb88b4c837c416e9cdf243b135f0122883c16601caefb6ba2ef0a76"
   }
  }
 },
 "nbformat": 4,
 "nbformat_minor": 2
}
