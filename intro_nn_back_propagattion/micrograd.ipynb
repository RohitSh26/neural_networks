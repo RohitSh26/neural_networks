{
 "cells": [
  {
   "cell_type": "code",
   "execution_count": 5,
   "metadata": {},
   "outputs": [],
   "source": [
    "import math\n",
    "import numpy as numpy\n",
    "import matplotlib.pyplot as plt\n",
    "%matplotlib inline"
   ]
  },
  {
   "cell_type": "markdown",
   "metadata": {},
   "source": [
    "##### Graphviz"
   ]
  },
  {
   "cell_type": "code",
   "execution_count": 25,
   "metadata": {},
   "outputs": [
    {
     "name": "stdout",
     "output_type": "stream",
     "text": [
      "Collecting graphviz\n",
      "  Downloading graphviz-0.20.1-py3-none-any.whl (47 kB)\n",
      "\u001b[2K     \u001b[90m━━━━━━━━━━━━━━━━━━━━━━━━━━━━━━━━━━━━━━━\u001b[0m \u001b[32m47.0/47.0 kB\u001b[0m \u001b[31m916.3 kB/s\u001b[0m eta \u001b[36m0:00:00\u001b[0m \u001b[36m0:00:01\u001b[0m\n",
      "\u001b[?25hInstalling collected packages: graphviz\n",
      "Successfully installed graphviz-0.20.1\n"
     ]
    }
   ],
   "source": [
    "!pip install graphviz\n",
    "from graphviz import Digraph"
   ]
  },
  {
   "cell_type": "code",
   "execution_count": 95,
   "metadata": {},
   "outputs": [],
   "source": [
    "def trace(root):\n",
    "    # build set of all nodes and edges\n",
    "    nodes, edges = set(), set()\n",
    "\n",
    "    def build(node):\n",
    "        # node is not in nodes add it to the list\n",
    "        if node not in nodes:\n",
    "            nodes.add(node)\n",
    "\n",
    "        # for each child of node\n",
    "        # add an edge from node to child\n",
    "        # in our case it would be children\n",
    "        # that is connect all prev to node\n",
    "        for child in node._prev:\n",
    "            edges.add((child, node))\n",
    "            # now recursively call build on each child\n",
    "            build(child)\n",
    "\n",
    "    # start building from the root\n",
    "    build(root)\n",
    "    return nodes, edges\n",
    "\n",
    "def draw_dot(root):\n",
    "    dot = Digraph(format='svg', graph_attr={'rankdir': 'LR'}) # LR => Left to right\n",
    "\n",
    "    nodes, edges = trace(root=root)\n",
    "\n",
    "    for node in nodes:\n",
    "        # unique id for the node\n",
    "        uid = str(id(node))\n",
    "\n",
    "        # for values we create a rectangular shape i.e. record\n",
    "        dot.node(name = uid, label = \"{ %s | data %.2f | grad %.2f}\" % (node._label, node.data, node.grad), shape='record')\n",
    "\n",
    "        # there is a node with operation\n",
    "        if node._op:\n",
    "            # i.e, if this is a result of some operation\n",
    "            dot.node(name = uid + node._op, label = node._op)\n",
    "\n",
    "            # connect node to it\n",
    "            dot.edge(uid + node._op, uid)\n",
    "        \n",
    "    for n1, n2 in edges:\n",
    "        # connect node 1 to the op node of node 2\n",
    "        dot.edge(str(id(n1)), str(id(n2)) + n2._op)\n",
    "    \n",
    "    return dot\n"
   ]
  },
  {
   "cell_type": "markdown",
   "metadata": {},
   "source": [
    "##### Value Class"
   ]
  },
  {
   "cell_type": "code",
   "execution_count": 96,
   "metadata": {},
   "outputs": [],
   "source": [
    "class Value:\n",
    "\n",
    "    def __init__(self, data, _children=(), _op='', _label=''):\n",
    "        self.data = data\n",
    "        self.grad = 0\n",
    "        self._prev = set(_children)\n",
    "        self._op = _op\n",
    "        self._label = _label\n",
    "    \n",
    "    def __repr__(self):\n",
    "        return f\"Value(data={self.data})\"\n",
    "    \n",
    "    def __add__(self, other):\n",
    "        return Value(self.data + other.data, _children=(self, other), _op='+')\n",
    "\n",
    "    def __mul__(self, other):\n",
    "        return Value(self.data * other.data, _children=(self, other), _op='*')\n",
    "\n",
    "    def tanh(self):\n",
    "        x = self.data\n",
    "        t = (math.exp(2 * x) - 1) / (math.exp(2 * x) + 1)\n",
    "        return Value(data=t, _children=(self, ), _label='tanh')\n"
   ]
  },
  {
   "cell_type": "code",
   "execution_count": 97,
   "metadata": {},
   "outputs": [
    {
     "data": {
      "text/plain": [
       "Value(data=-8.0)"
      ]
     },
     "execution_count": 97,
     "metadata": {},
     "output_type": "execute_result"
    }
   ],
   "source": [
    "a = Value(2.0, _label='a')\n",
    "b = Value(-3.0, _label='b')\n",
    "c = Value(10.0, _label='c')\n",
    "e = a * b; e._label = 'e'\n",
    "d = e + c; d._label = 'd'\n",
    "f = Value(-2.0, _label='f')\n",
    "L = d * f; L._label='L'\n",
    "L"
   ]
  },
  {
   "cell_type": "code",
   "execution_count": 98,
   "metadata": {},
   "outputs": [],
   "source": [
    "# draw_dot(L)"
   ]
  },
  {
   "cell_type": "code",
   "execution_count": 105,
   "metadata": {},
   "outputs": [
    {
     "data": {
      "image/svg+xml": "<?xml version=\"1.0\" encoding=\"UTF-8\" standalone=\"no\"?>\n<!DOCTYPE svg PUBLIC \"-//W3C//DTD SVG 1.1//EN\"\n \"http://www.w3.org/Graphics/SVG/1.1/DTD/svg11.dtd\">\n<!-- Generated by graphviz version 2.50.0 (0)\n -->\n<!-- Pages: 1 -->\n<svg width=\"1318pt\" height=\"210pt\"\n viewBox=\"0.00 0.00 1318.00 210.00\" xmlns=\"http://www.w3.org/2000/svg\" xmlns:xlink=\"http://www.w3.org/1999/xlink\">\n<g id=\"graph0\" class=\"graph\" transform=\"scale(1 1) rotate(0) translate(4 206)\">\n<polygon fill=\"white\" stroke=\"transparent\" points=\"-4,4 -4,-206 1314,-206 1314,4 -4,4\"/>\n<!-- 140330721485344 -->\n<g id=\"node1\" class=\"node\">\n<title>140330721485344</title>\n<polygon fill=\"none\" stroke=\"black\" points=\"0,-165.5 0,-201.5 172,-201.5 172,-165.5 0,-165.5\"/>\n<text text-anchor=\"middle\" x=\"16.5\" y=\"-179.8\" font-family=\"Times,serif\" font-size=\"14.00\">w1</text>\n<polyline fill=\"none\" stroke=\"black\" points=\"33,-165.5 33,-201.5 \"/>\n<text text-anchor=\"middle\" x=\"68.5\" y=\"-179.8\" font-family=\"Times,serif\" font-size=\"14.00\">data &#45;3.00</text>\n<polyline fill=\"none\" stroke=\"black\" points=\"104,-165.5 104,-201.5 \"/>\n<text text-anchor=\"middle\" x=\"138\" y=\"-179.8\" font-family=\"Times,serif\" font-size=\"14.00\">grad 0.00</text>\n</g>\n<!-- 140330721486304* -->\n<g id=\"node13\" class=\"node\">\n<title>140330721486304*</title>\n<ellipse fill=\"none\" stroke=\"black\" cx=\"235\" cy=\"-128.5\" rx=\"27\" ry=\"18\"/>\n<text text-anchor=\"middle\" x=\"235\" y=\"-124.8\" font-family=\"Times,serif\" font-size=\"14.00\">*</text>\n</g>\n<!-- 140330721485344&#45;&gt;140330721486304* -->\n<g id=\"edge9\" class=\"edge\">\n<title>140330721485344&#45;&gt;140330721486304*</title>\n<path fill=\"none\" stroke=\"black\" d=\"M146.75,-165.49C155.28,-162.64 163.9,-159.6 172,-156.5 182.45,-152.5 193.65,-147.62 203.62,-143.07\"/>\n<polygon fill=\"black\" stroke=\"black\" points=\"205.14,-146.22 212.74,-138.84 202.2,-139.87 205.14,-146.22\"/>\n</g>\n<!-- 140330721485392 -->\n<g id=\"node2\" class=\"node\">\n<title>140330721485392</title>\n<polygon fill=\"none\" stroke=\"black\" points=\"645,-27.5 645,-63.5 803,-63.5 803,-27.5 645,-27.5\"/>\n<text text-anchor=\"middle\" x=\"656.5\" y=\"-41.8\" font-family=\"Times,serif\" font-size=\"14.00\">b</text>\n<polyline fill=\"none\" stroke=\"black\" points=\"668,-27.5 668,-63.5 \"/>\n<text text-anchor=\"middle\" x=\"701.5\" y=\"-41.8\" font-family=\"Times,serif\" font-size=\"14.00\">data 6.88</text>\n<polyline fill=\"none\" stroke=\"black\" points=\"735,-27.5 735,-63.5 \"/>\n<text text-anchor=\"middle\" x=\"769\" y=\"-41.8\" font-family=\"Times,serif\" font-size=\"14.00\">grad 0.00</text>\n</g>\n<!-- 140330707402320+ -->\n<g id=\"node4\" class=\"node\">\n<title>140330707402320+</title>\n<ellipse fill=\"none\" stroke=\"black\" cx=\"895\" cy=\"-72.5\" rx=\"27\" ry=\"18\"/>\n<text text-anchor=\"middle\" x=\"895\" y=\"-68.8\" font-family=\"Times,serif\" font-size=\"14.00\">+</text>\n</g>\n<!-- 140330721485392&#45;&gt;140330707402320+ -->\n<g id=\"edge5\" class=\"edge\">\n<title>140330721485392&#45;&gt;140330707402320+</title>\n<path fill=\"none\" stroke=\"black\" d=\"M803.07,-57.97C822.51,-61.08 842.4,-64.26 858.61,-66.85\"/>\n<polygon fill=\"black\" stroke=\"black\" points=\"858.26,-70.33 868.68,-68.46 859.36,-63.42 858.26,-70.33\"/>\n</g>\n<!-- 140330707402320 -->\n<g id=\"node3\" class=\"node\">\n<title>140330707402320</title>\n<polygon fill=\"none\" stroke=\"black\" points=\"958,-54.5 958,-90.5 1116,-90.5 1116,-54.5 958,-54.5\"/>\n<text text-anchor=\"middle\" x=\"969.5\" y=\"-68.8\" font-family=\"Times,serif\" font-size=\"14.00\">n</text>\n<polyline fill=\"none\" stroke=\"black\" points=\"981,-54.5 981,-90.5 \"/>\n<text text-anchor=\"middle\" x=\"1014.5\" y=\"-68.8\" font-family=\"Times,serif\" font-size=\"14.00\">data 0.88</text>\n<polyline fill=\"none\" stroke=\"black\" points=\"1048,-54.5 1048,-90.5 \"/>\n<text text-anchor=\"middle\" x=\"1082\" y=\"-68.8\" font-family=\"Times,serif\" font-size=\"14.00\">grad 0.00</text>\n</g>\n<!-- 140330721517280 -->\n<g id=\"node6\" class=\"node\">\n<title>140330721517280</title>\n<polygon fill=\"none\" stroke=\"black\" points=\"1152,-54.5 1152,-90.5 1310,-90.5 1310,-54.5 1152,-54.5\"/>\n<text text-anchor=\"middle\" x=\"1163.5\" y=\"-68.8\" font-family=\"Times,serif\" font-size=\"14.00\">o</text>\n<polyline fill=\"none\" stroke=\"black\" points=\"1175,-54.5 1175,-90.5 \"/>\n<text text-anchor=\"middle\" x=\"1208.5\" y=\"-68.8\" font-family=\"Times,serif\" font-size=\"14.00\">data 0.71</text>\n<polyline fill=\"none\" stroke=\"black\" points=\"1242,-54.5 1242,-90.5 \"/>\n<text text-anchor=\"middle\" x=\"1276\" y=\"-68.8\" font-family=\"Times,serif\" font-size=\"14.00\">grad 0.00</text>\n</g>\n<!-- 140330707402320&#45;&gt;140330721517280 -->\n<g id=\"edge8\" class=\"edge\">\n<title>140330707402320&#45;&gt;140330721517280</title>\n<path fill=\"none\" stroke=\"black\" d=\"M1116.09,-72.5C1124.6,-72.5 1133.3,-72.5 1141.92,-72.5\"/>\n<polygon fill=\"black\" stroke=\"black\" points=\"1141.98,-76 1151.98,-72.5 1141.98,-69 1141.98,-76\"/>\n</g>\n<!-- 140330707402320+&#45;&gt;140330707402320 -->\n<g id=\"edge1\" class=\"edge\">\n<title>140330707402320+&#45;&gt;140330707402320</title>\n<path fill=\"none\" stroke=\"black\" d=\"M922,-72.5C929.61,-72.5 938.39,-72.5 947.62,-72.5\"/>\n<polygon fill=\"black\" stroke=\"black\" points=\"947.78,-76 957.78,-72.5 947.78,-69 947.78,-76\"/>\n</g>\n<!-- 140330721488512 -->\n<g id=\"node5\" class=\"node\">\n<title>140330721488512</title>\n<polygon fill=\"none\" stroke=\"black\" points=\"2,-55.5 2,-91.5 170,-91.5 170,-55.5 2,-55.5\"/>\n<text text-anchor=\"middle\" x=\"18.5\" y=\"-69.8\" font-family=\"Times,serif\" font-size=\"14.00\">w2</text>\n<polyline fill=\"none\" stroke=\"black\" points=\"35,-55.5 35,-91.5 \"/>\n<text text-anchor=\"middle\" x=\"68.5\" y=\"-69.8\" font-family=\"Times,serif\" font-size=\"14.00\">data 1.00</text>\n<polyline fill=\"none\" stroke=\"black\" points=\"102,-55.5 102,-91.5 \"/>\n<text text-anchor=\"middle\" x=\"136\" y=\"-69.8\" font-family=\"Times,serif\" font-size=\"14.00\">grad 0.00</text>\n</g>\n<!-- 140330721487216* -->\n<g id=\"node9\" class=\"node\">\n<title>140330721487216*</title>\n<ellipse fill=\"none\" stroke=\"black\" cx=\"235\" cy=\"-73.5\" rx=\"27\" ry=\"18\"/>\n<text text-anchor=\"middle\" x=\"235\" y=\"-69.8\" font-family=\"Times,serif\" font-size=\"14.00\">*</text>\n</g>\n<!-- 140330721488512&#45;&gt;140330721487216* -->\n<g id=\"edge11\" class=\"edge\">\n<title>140330721488512&#45;&gt;140330721487216*</title>\n<path fill=\"none\" stroke=\"black\" d=\"M170.38,-73.5C179.95,-73.5 189.29,-73.5 197.74,-73.5\"/>\n<polygon fill=\"black\" stroke=\"black\" points=\"197.91,-77 207.91,-73.5 197.91,-70 197.91,-77\"/>\n</g>\n<!-- 140330720459216 -->\n<g id=\"node7\" class=\"node\">\n<title>140330720459216</title>\n<polygon fill=\"none\" stroke=\"black\" points=\"3.5,-110.5 3.5,-146.5 168.5,-146.5 168.5,-110.5 3.5,-110.5\"/>\n<text text-anchor=\"middle\" x=\"18.5\" y=\"-124.8\" font-family=\"Times,serif\" font-size=\"14.00\">x1</text>\n<polyline fill=\"none\" stroke=\"black\" points=\"33.5,-110.5 33.5,-146.5 \"/>\n<text text-anchor=\"middle\" x=\"67\" y=\"-124.8\" font-family=\"Times,serif\" font-size=\"14.00\">data 2.00</text>\n<polyline fill=\"none\" stroke=\"black\" points=\"100.5,-110.5 100.5,-146.5 \"/>\n<text text-anchor=\"middle\" x=\"134.5\" y=\"-124.8\" font-family=\"Times,serif\" font-size=\"14.00\">grad 0.00</text>\n</g>\n<!-- 140330720459216&#45;&gt;140330721486304* -->\n<g id=\"edge13\" class=\"edge\">\n<title>140330720459216&#45;&gt;140330721486304*</title>\n<path fill=\"none\" stroke=\"black\" d=\"M168.67,-128.5C178.83,-128.5 188.79,-128.5 197.74,-128.5\"/>\n<polygon fill=\"black\" stroke=\"black\" points=\"197.74,-132 207.74,-128.5 197.74,-125 197.74,-132\"/>\n</g>\n<!-- 140330721487216 -->\n<g id=\"node8\" class=\"node\">\n<title>140330721487216</title>\n<polygon fill=\"none\" stroke=\"black\" points=\"300,-55.5 300,-91.5 488,-91.5 488,-55.5 300,-55.5\"/>\n<text text-anchor=\"middle\" x=\"326.5\" y=\"-69.8\" font-family=\"Times,serif\" font-size=\"14.00\">x2*w2</text>\n<polyline fill=\"none\" stroke=\"black\" points=\"353,-55.5 353,-91.5 \"/>\n<text text-anchor=\"middle\" x=\"386.5\" y=\"-69.8\" font-family=\"Times,serif\" font-size=\"14.00\">data 0.00</text>\n<polyline fill=\"none\" stroke=\"black\" points=\"420,-55.5 420,-91.5 \"/>\n<text text-anchor=\"middle\" x=\"454\" y=\"-69.8\" font-family=\"Times,serif\" font-size=\"14.00\">grad 0.00</text>\n</g>\n<!-- 140330721487312+ -->\n<g id=\"node11\" class=\"node\">\n<title>140330721487312+</title>\n<ellipse fill=\"none\" stroke=\"black\" cx=\"553\" cy=\"-100.5\" rx=\"27\" ry=\"18\"/>\n<text text-anchor=\"middle\" x=\"553\" y=\"-96.8\" font-family=\"Times,serif\" font-size=\"14.00\">+</text>\n</g>\n<!-- 140330721487216&#45;&gt;140330721487312+ -->\n<g id=\"edge10\" class=\"edge\">\n<title>140330721487216&#45;&gt;140330721487312+</title>\n<path fill=\"none\" stroke=\"black\" d=\"M488.14,-89.52C498.19,-91.25 507.9,-92.92 516.59,-94.41\"/>\n<polygon fill=\"black\" stroke=\"black\" points=\"516.2,-97.89 526.64,-96.14 517.38,-91 516.2,-97.89\"/>\n</g>\n<!-- 140330721487216*&#45;&gt;140330721487216 -->\n<g id=\"edge2\" class=\"edge\">\n<title>140330721487216*&#45;&gt;140330721487216</title>\n<path fill=\"none\" stroke=\"black\" d=\"M262.28,-73.5C270.33,-73.5 279.73,-73.5 289.72,-73.5\"/>\n<polygon fill=\"black\" stroke=\"black\" points=\"289.88,-77 299.88,-73.5 289.88,-70 289.88,-77\"/>\n</g>\n<!-- 140330721487312 -->\n<g id=\"node10\" class=\"node\">\n<title>140330721487312</title>\n<polygon fill=\"none\" stroke=\"black\" points=\"616,-82.5 616,-118.5 832,-118.5 832,-82.5 616,-82.5\"/>\n<text text-anchor=\"middle\" x=\"654.5\" y=\"-96.8\" font-family=\"Times,serif\" font-size=\"14.00\">x1w1x2w2</text>\n<polyline fill=\"none\" stroke=\"black\" points=\"693,-82.5 693,-118.5 \"/>\n<text text-anchor=\"middle\" x=\"728.5\" y=\"-96.8\" font-family=\"Times,serif\" font-size=\"14.00\">data &#45;6.00</text>\n<polyline fill=\"none\" stroke=\"black\" points=\"764,-82.5 764,-118.5 \"/>\n<text text-anchor=\"middle\" x=\"798\" y=\"-96.8\" font-family=\"Times,serif\" font-size=\"14.00\">grad 0.00</text>\n</g>\n<!-- 140330721487312&#45;&gt;140330707402320+ -->\n<g id=\"edge6\" class=\"edge\">\n<title>140330721487312&#45;&gt;140330707402320+</title>\n<path fill=\"none\" stroke=\"black\" d=\"M832.03,-82.77C841.41,-81.21 850.4,-79.72 858.47,-78.39\"/>\n<polygon fill=\"black\" stroke=\"black\" points=\"859.22,-81.81 868.51,-76.72 858.08,-74.9 859.22,-81.81\"/>\n</g>\n<!-- 140330721487312+&#45;&gt;140330721487312 -->\n<g id=\"edge3\" class=\"edge\">\n<title>140330721487312+&#45;&gt;140330721487312</title>\n<path fill=\"none\" stroke=\"black\" d=\"M580.04,-100.5C587.59,-100.5 596.38,-100.5 605.8,-100.5\"/>\n<polygon fill=\"black\" stroke=\"black\" points=\"605.83,-104 615.83,-100.5 605.83,-97 605.83,-104\"/>\n</g>\n<!-- 140330721486304 -->\n<g id=\"node12\" class=\"node\">\n<title>140330721486304</title>\n<polygon fill=\"none\" stroke=\"black\" points=\"298,-110.5 298,-146.5 490,-146.5 490,-110.5 298,-110.5\"/>\n<text text-anchor=\"middle\" x=\"324.5\" y=\"-124.8\" font-family=\"Times,serif\" font-size=\"14.00\">x1*w1</text>\n<polyline fill=\"none\" stroke=\"black\" points=\"351,-110.5 351,-146.5 \"/>\n<text text-anchor=\"middle\" x=\"386.5\" y=\"-124.8\" font-family=\"Times,serif\" font-size=\"14.00\">data &#45;6.00</text>\n<polyline fill=\"none\" stroke=\"black\" points=\"422,-110.5 422,-146.5 \"/>\n<text text-anchor=\"middle\" x=\"456\" y=\"-124.8\" font-family=\"Times,serif\" font-size=\"14.00\">grad 0.00</text>\n</g>\n<!-- 140330721486304&#45;&gt;140330721487312+ -->\n<g id=\"edge12\" class=\"edge\">\n<title>140330721486304&#45;&gt;140330721487312+</title>\n<path fill=\"none\" stroke=\"black\" d=\"M490.4,-111.49C499.69,-109.83 508.64,-108.23 516.71,-106.79\"/>\n<polygon fill=\"black\" stroke=\"black\" points=\"517.53,-110.2 526.76,-105 516.31,-103.31 517.53,-110.2\"/>\n</g>\n<!-- 140330721486304*&#45;&gt;140330721486304 -->\n<g id=\"edge4\" class=\"edge\">\n<title>140330721486304*&#45;&gt;140330721486304</title>\n<path fill=\"none\" stroke=\"black\" d=\"M262.28,-128.5C269.78,-128.5 278.44,-128.5 287.67,-128.5\"/>\n<polygon fill=\"black\" stroke=\"black\" points=\"287.87,-132 297.87,-128.5 287.87,-125 287.87,-132\"/>\n</g>\n<!-- 140330720014832 -->\n<g id=\"node14\" class=\"node\">\n<title>140330720014832</title>\n<polygon fill=\"none\" stroke=\"black\" points=\"3.5,-0.5 3.5,-36.5 168.5,-36.5 168.5,-0.5 3.5,-0.5\"/>\n<text text-anchor=\"middle\" x=\"18.5\" y=\"-14.8\" font-family=\"Times,serif\" font-size=\"14.00\">x2</text>\n<polyline fill=\"none\" stroke=\"black\" points=\"33.5,-0.5 33.5,-36.5 \"/>\n<text text-anchor=\"middle\" x=\"67\" y=\"-14.8\" font-family=\"Times,serif\" font-size=\"14.00\">data 0.00</text>\n<polyline fill=\"none\" stroke=\"black\" points=\"100.5,-0.5 100.5,-36.5 \"/>\n<text text-anchor=\"middle\" x=\"134.5\" y=\"-14.8\" font-family=\"Times,serif\" font-size=\"14.00\">grad 0.00</text>\n</g>\n<!-- 140330720014832&#45;&gt;140330721487216* -->\n<g id=\"edge7\" class=\"edge\">\n<title>140330720014832&#45;&gt;140330721487216*</title>\n<path fill=\"none\" stroke=\"black\" d=\"M144.41,-36.61C153.68,-39.76 163.14,-43.12 172,-46.5 182.2,-50.39 193.17,-55.02 203.01,-59.33\"/>\n<polygon fill=\"black\" stroke=\"black\" points=\"201.84,-62.64 212.4,-63.51 204.68,-56.25 201.84,-62.64\"/>\n</g>\n</g>\n</svg>\n",
      "text/plain": [
       "<graphviz.graphs.Digraph at 0x7fa14acb5310>"
      ]
     },
     "execution_count": 105,
     "metadata": {},
     "output_type": "execute_result"
    }
   ],
   "source": [
    "# input values\n",
    "x1 = Value(2.0, _label='x1')\n",
    "x2 = Value(0.0, _label='x2')\n",
    "\n",
    "# weights\n",
    "w1 = Value(-3.0, _label='w1')\n",
    "w2 = Value(1.0, _label='w2')\n",
    "\n",
    "# bias\n",
    "b = Value(6.88137358, _label='b')\n",
    "\n",
    "# x1*w1 + x2*w2 + b\n",
    "x1w1 = x1*w1; x1w1._label='x1*w1'\n",
    "x2w2 = x2*w2; x2w2._label='x2*w2'\n",
    "x1w1x2w2 = x1w1 + x2w2; x1w1x2w2._label='x1w1x2w2'\n",
    "\n",
    "# neuron\n",
    "n = x1w1x2w2 + b; n._label = 'n'\n",
    "\n",
    "# output\n",
    "o = n.tanh(); o._label='o'\n",
    "draw_dot(o)"
   ]
  }
 ],
 "metadata": {
  "kernelspec": {
   "display_name": "Python 3.9.13 ('nn')",
   "language": "python",
   "name": "python3"
  },
  "language_info": {
   "codemirror_mode": {
    "name": "ipython",
    "version": 3
   },
   "file_extension": ".py",
   "mimetype": "text/x-python",
   "name": "python",
   "nbconvert_exporter": "python",
   "pygments_lexer": "ipython3",
   "version": "3.9.13"
  },
  "orig_nbformat": 4,
  "vscode": {
   "interpreter": {
    "hash": "281fcde91fb88b4c837c416e9cdf243b135f0122883c16601caefb6ba2ef0a76"
   }
  }
 },
 "nbformat": 4,
 "nbformat_minor": 2
}
